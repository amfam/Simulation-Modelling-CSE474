{
  "nbformat": 4,
  "nbformat_minor": 0,
  "metadata": {
    "colab": {
      "name": "Trapezoid&&Simpson.ipynb",
      "provenance": [],
      "collapsed_sections": []
    },
    "kernelspec": {
      "name": "python3",
      "display_name": "Python 3"
    }
  },
  "cells": [
    {
      "cell_type": "code",
      "metadata": {
        "id": "FFUQteN391EX",
        "colab_type": "code",
        "colab": {}
      },
      "source": [
        "import numpy as np\n",
        "import pandas as pd\n",
        "\n",
        "def f(x):\n",
        "    return 1/((25*x**2)+1)"
      ],
      "execution_count": 0,
      "outputs": []
    },
    {
      "cell_type": "code",
      "metadata": {
        "id": "6NqAqNnn_5FQ",
        "colab_type": "code",
        "colab": {}
      },
      "source": [
        "def trapezoidal(arr,h):\n",
        "    b=0\n",
        "    b=b+f(arr[0])\n",
        "    for i in range(1,len(arr)-2):\n",
        "        b=b+2*f(arr[i])\n",
        "    b=b+f(arr[len(arr)-1])\n",
        "    b=b*(h/2)\n",
        "    return b"
      ],
      "execution_count": 0,
      "outputs": []
    },
    {
      "cell_type": "code",
      "metadata": {
        "id": "3xb58NkdP5a4",
        "colab_type": "code",
        "colab": {}
      },
      "source": [
        "def oneThirdSimpsons(arr,h):\n",
        "    b=0\n",
        "    b=b+f(arr[0])\n",
        "    for i in range(1,len(arr)-2):\n",
        "        if (i%2==0):\n",
        "            b=b+2*f(arr[i])\n",
        "        else:\n",
        "            b=b+4*f(arr[i])\n",
        "    b=b+f(arr[len(arr)-1])\n",
        "    b=b*(h/3)\n",
        "    return b"
      ],
      "execution_count": 0,
      "outputs": []
    },
    {
      "cell_type": "code",
      "metadata": {
        "id": "ZlotH6rUQx0S",
        "colab_type": "code",
        "colab": {}
      },
      "source": [
        "def threebyeightSimpsons(arr,h):\n",
        "    b=0\n",
        "    b=b+f(arr[0])\n",
        "    for i in range(1,len(arr)-2):\n",
        "        if(i%3==0):\n",
        "            b=b+2*f(arr[i])\n",
        "        else:\n",
        "            b=b+3*f(arr[i])\n",
        "    b=b+f(arr[len(arr)-1])\n",
        "    b=b*(3*h/8)\n",
        "    return b"
      ],
      "execution_count": 0,
      "outputs": []
    },
    {
      "cell_type": "code",
      "metadata": {
        "id": "uDrjP50WQMCJ",
        "colab_type": "code",
        "colab": {
          "base_uri": "https://localhost:8080/",
          "height": 68
        },
        "outputId": "b852af7e-1ad4-4d45-ed88-2e437dfe1d40"
      },
      "source": [
        "a=int(input(\"lower bound\"))\n",
        "b=int(input(\"upper bound\"))\n",
        "n=int(input(\" number of segments\"))\n",
        "x1 = np.linspace(a, b, n+1) \n",
        "h=(b-a)/n"
      ],
      "execution_count": 61,
      "outputs": [
        {
          "output_type": "stream",
          "text": [
            "lower bound-1\n",
            "upper bound1\n",
            " number of segments8\n"
          ],
          "name": "stdout"
        }
      ]
    },
    {
      "cell_type": "code",
      "metadata": {
        "id": "CeSQEK_LRMBa",
        "colab_type": "code",
        "colab": {
          "base_uri": "https://localhost:8080/",
          "height": 34
        },
        "outputId": "2c2bcf4d-8cfd-487a-fd51-959654a738fc"
      },
      "source": [
        "trapezoidal(x1,h)"
      ],
      "execution_count": 62,
      "outputs": [
        {
          "output_type": "execute_result",
          "data": {
            "text/plain": [
              "0.54030036344972"
            ]
          },
          "metadata": {
            "tags": []
          },
          "execution_count": 62
        }
      ]
    },
    {
      "cell_type": "code",
      "metadata": {
        "id": "MXrkNvenROIR",
        "colab_type": "code",
        "colab": {
          "base_uri": "https://localhost:8080/",
          "height": 34
        },
        "outputId": "1c2ee227-e5bf-4c53-89fb-0d22cc8a36ad"
      },
      "source": [
        "oneThirdSimpsons(x1,h)"
      ],
      "execution_count": 63,
      "outputs": [
        {
          "output_type": "execute_result",
          "data": {
            "text/plain": [
              "0.5013465500284509"
            ]
          },
          "metadata": {
            "tags": []
          },
          "execution_count": 63
        }
      ]
    },
    {
      "cell_type": "code",
      "metadata": {
        "id": "t_14MZEXRQsw",
        "colab_type": "code",
        "colab": {
          "base_uri": "https://localhost:8080/",
          "height": 34
        },
        "outputId": "775d4cf1-7db7-4a8e-b977-70d6c1a4bd39"
      },
      "source": [
        "threebyeightSimpsons(x1,h)"
      ],
      "execution_count": 64,
      "outputs": [
        {
          "output_type": "execute_result",
          "data": {
            "text/plain": [
              "0.5547157393137487"
            ]
          },
          "metadata": {
            "tags": []
          },
          "execution_count": 64
        }
      ]
    }
  ]
}